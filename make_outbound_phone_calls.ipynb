{
 "cells": [
  {
   "cell_type": "code",
   "execution_count": 2,
   "metadata": {},
   "outputs": [
    {
     "name": "stdout",
     "output_type": "stream",
     "text": [
      "Requirement already satisfied: twilio in ./.venv/lib/python3.11/site-packages (9.5.2)\n",
      "Requirement already satisfied: requests>=2.0.0 in ./.venv/lib/python3.11/site-packages (from twilio) (2.32.3)\n",
      "Requirement already satisfied: PyJWT<3.0.0,>=2.0.0 in ./.venv/lib/python3.11/site-packages (from twilio) (2.10.1)\n",
      "Requirement already satisfied: aiohttp>=3.8.4 in ./.venv/lib/python3.11/site-packages (from twilio) (3.11.18)\n",
      "Requirement already satisfied: aiohttp-retry>=2.8.3 in ./.venv/lib/python3.11/site-packages (from twilio) (2.9.1)\n",
      "Requirement already satisfied: aiohappyeyeballs>=2.3.0 in ./.venv/lib/python3.11/site-packages (from aiohttp>=3.8.4->twilio) (2.6.1)\n",
      "Requirement already satisfied: aiosignal>=1.1.2 in ./.venv/lib/python3.11/site-packages (from aiohttp>=3.8.4->twilio) (1.3.2)\n",
      "Requirement already satisfied: attrs>=17.3.0 in ./.venv/lib/python3.11/site-packages (from aiohttp>=3.8.4->twilio) (25.3.0)\n",
      "Requirement already satisfied: frozenlist>=1.1.1 in ./.venv/lib/python3.11/site-packages (from aiohttp>=3.8.4->twilio) (1.6.0)\n",
      "Requirement already satisfied: multidict<7.0,>=4.5 in ./.venv/lib/python3.11/site-packages (from aiohttp>=3.8.4->twilio) (6.4.3)\n",
      "Requirement already satisfied: propcache>=0.2.0 in ./.venv/lib/python3.11/site-packages (from aiohttp>=3.8.4->twilio) (0.3.1)\n",
      "Requirement already satisfied: yarl<2.0,>=1.17.0 in ./.venv/lib/python3.11/site-packages (from aiohttp>=3.8.4->twilio) (1.20.0)\n",
      "Requirement already satisfied: charset-normalizer<4,>=2 in ./.venv/lib/python3.11/site-packages (from requests>=2.0.0->twilio) (3.4.1)\n",
      "Requirement already satisfied: idna<4,>=2.5 in ./.venv/lib/python3.11/site-packages (from requests>=2.0.0->twilio) (3.10)\n",
      "Requirement already satisfied: urllib3<3,>=1.21.1 in ./.venv/lib/python3.11/site-packages (from requests>=2.0.0->twilio) (2.4.0)\n",
      "Requirement already satisfied: certifi>=2017.4.17 in ./.venv/lib/python3.11/site-packages (from requests>=2.0.0->twilio) (2025.4.26)\n",
      "\u001b[33mWARNING: There was an error checking the latest version of pip.\u001b[0m\u001b[33m\n",
      "\u001b[0mRequirement already satisfied: python-dotenv in ./.venv/lib/python3.11/site-packages (1.1.0)\n",
      "\u001b[33mWARNING: There was an error checking the latest version of pip.\u001b[0m\u001b[33m\n",
      "\u001b[0mRequirement already satisfied: black in ./.venv/lib/python3.11/site-packages (25.1.0)\n",
      "Requirement already satisfied: click>=8.0.0 in ./.venv/lib/python3.11/site-packages (from black) (8.1.8)\n",
      "Requirement already satisfied: mypy-extensions>=0.4.3 in ./.venv/lib/python3.11/site-packages (from black) (1.1.0)\n",
      "Requirement already satisfied: packaging>=22.0 in ./.venv/lib/python3.11/site-packages (from black) (25.0)\n",
      "Requirement already satisfied: pathspec>=0.9.0 in ./.venv/lib/python3.11/site-packages (from black) (0.12.1)\n",
      "Requirement already satisfied: platformdirs>=2 in ./.venv/lib/python3.11/site-packages (from black) (4.3.7)\n",
      "\u001b[33mWARNING: There was an error checking the latest version of pip.\u001b[0m\u001b[33m\n",
      "\u001b[0m"
     ]
    }
   ],
   "source": [
    "!python3 -m pip install twilio\n",
    "!python3 -m pip install python-dotenv\n",
    "!python3 -m pip install black"
   ]
  },
  {
   "cell_type": "code",
   "execution_count": 4,
   "metadata": {},
   "outputs": [
    {
     "name": "stdout",
     "output_type": "stream",
     "text": [
      "CA787b10f0b993e8ff14ab5aa634c1433c\n"
     ]
    }
   ],
   "source": [
    "# Download the helper library from https://www.twilio.com/docs/python/install\n",
    "import os\n",
    "from twilio.rest import Client\n",
    "from dotenv import load_dotenv\n",
    "\n",
    "# Load environment variables from .env file\n",
    "load_dotenv()\n",
    "\n",
    "# Find your Account SID and Auth Token at twilio.com/console\n",
    "# and set the environment variables. See http://twil.io/secure\n",
    "account_sid = os.environ[\"TWILIO_ACCOUNT_SID\"]\n",
    "auth_token = os.environ[\"TWILIO_AUTH_TOKEN\"]\n",
    "client = Client(account_sid, auth_token)\n",
    "\n",
    "call = client.calls.create(\n",
    "    twiml=\"\"\"<Response>\n",
    "     <Pause length=\"1\"/>\n",
    "        <Say>Hi Aldred -- this is Jairosoft AI.</Say> \n",
    "        <Pause length=\"1\"/>\n",
    "        <Say>I've got your schedule for Sunday, April 20th, 2025:</Say>\n",
    "        <Pause length=\"1\"/>\n",
    "        <Say>8:00 AM - 9:00 AM: Meeting with Miles</Say>\n",
    "        <Pause length=\"1\"/>\n",
    "        <Say>9:00 AM - 10:00 AM: Meeting with Jayden</Say>\n",
    "        <Pause length=\"1\"/>\n",
    "        <Say>11:00 AM - 12:00 PM: Lunch with Family</Say>\n",
    "        <Pause length=\"1\"/>\n",
    "        <Say>1:00 PM - 5:00 PM: Meeting with Kriss</Say>\n",
    "        <Pause length=\"1\"/>\n",
    "        <Say>Looks like a busy day!</Say>\n",
    "        <Pause length=\"1\"/>\n",
    "        <Say>Is there anything else I can help you with regarding this schedule?</Say>\n",
    "    </Response>\"\"\",\n",
    "    to=os.environ[\"RECIPIENT_PHONE_NUMBER\"],\n",
    "    from_=os.environ[\"TWILIO_PHONE_NUMBER\"],\n",
    ")\n",
    "\n",
    "print(call.sid)\n"
   ]
  }
 ],
 "metadata": {
  "kernelspec": {
   "display_name": "Python 3",
   "language": "python",
   "name": "python3"
  },
  "language_info": {
   "codemirror_mode": {
    "name": "ipython",
    "version": 3
   },
   "file_extension": ".py",
   "mimetype": "text/x-python",
   "name": "python",
   "nbconvert_exporter": "python",
   "pygments_lexer": "ipython3",
   "version": "3.11.3"
  }
 },
 "nbformat": 4,
 "nbformat_minor": 2
}
