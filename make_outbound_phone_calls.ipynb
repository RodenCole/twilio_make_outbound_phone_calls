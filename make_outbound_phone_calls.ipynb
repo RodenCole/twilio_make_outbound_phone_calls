{
 "cells": [
  {
   "cell_type": "code",
   "execution_count": 1,
   "metadata": {},
   "outputs": [
    {
     "name": "stdout",
     "output_type": "stream",
     "text": [
      "CAe76c2d62e3e8441e67b8ab5419d07a4b\n"
     ]
    }
   ],
   "source": [
    "# Download the helper library from https://www.twilio.com/docs/python/install\n",
    "import os\n",
    "from twilio.rest import Client\n",
    "from dotenv import load_dotenv\n",
    "\n",
    "# Load environment variables from .env file\n",
    "load_dotenv()\n",
    "\n",
    "# Find your Account SID and Auth Token at twilio.com/console\n",
    "# and set the environment variables. See http://twil.io/secure\n",
    "account_sid = os.environ[\"TWILIO_ACCOUNT_SID\"]\n",
    "auth_token = os.environ[\"TWILIO_AUTH_TOKEN\"]\n",
    "client = Client(account_sid, auth_token)\n",
    "\n",
    "call = client.calls.create(\n",
    "    twiml=\"\"\"<Response>\n",
    "     <Pause length=\"1\"/>\n",
    "        <Say>Hi Aldred -- this is Jairosoft AI.</Say> \n",
    "        <Pause length=\"1\"/>\n",
    "        <Say>I've got your schedule for Sunday, April 20th, 2025:</Say>\n",
    "        <Pause length=\"1\"/>\n",
    "        <Say>8:00 AM - 9:00 AM: Meeting with Miles</Say>\n",
    "        <Pause length=\"1\"/>\n",
    "        <Say>9:00 AM - 10:00 AM: Meeting with Jayden</Say>\n",
    "        <Pause length=\"1\"/>\n",
    "        <Say>11:00 AM - 12:00 PM: Lunch with Family</Say>\n",
    "        <Pause length=\"1\"/>\n",
    "        <Say>1:00 PM - 5:00 PM: Meeting with Kriss</Say>\n",
    "        <Pause length=\"1\"/>\n",
    "        <Say>Looks like a busy day!</Say>\n",
    "        <Pause length=\"1\"/>\n",
    "        <Say>Is there anything else I can help you with regarding this schedule?</Say>\n",
    "    </Response>\"\"\",\n",
    "    to=os.environ[\"RECIPIENT_PHONE_NUMBER\"],\n",
    "    from_=os.environ[\"TWILIO_PHONE_NUMBER\"],\n",
    ")\n",
    "\n",
    "print(call.sid)\n"
   ]
  }
 ],
 "metadata": {
  "kernelspec": {
   "display_name": ".venv",
   "language": "python",
   "name": "python3"
  },
  "language_info": {
   "codemirror_mode": {
    "name": "ipython",
    "version": 3
   },
   "file_extension": ".py",
   "mimetype": "text/x-python",
   "name": "python",
   "nbconvert_exporter": "python",
   "pygments_lexer": "ipython3",
   "version": "3.13.1"
  }
 },
 "nbformat": 4,
 "nbformat_minor": 2
}
